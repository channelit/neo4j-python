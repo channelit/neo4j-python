{
 "cells": [
  {
   "cell_type": "code",
   "execution_count": 1,
   "metadata": {
    "collapsed": true
   },
   "outputs": [],
   "source": [
    "from neo4j import GraphDatabase\n",
    "\n",
    "root_dir = '/Users/hp/workbench/data/json_dir'"
   ]
  },
  {
   "cell_type": "code",
   "execution_count": 2,
   "metadata": {},
   "outputs": [],
   "source": [
    "\n",
    "class NeoExec(object):\n",
    "\n",
    "    def __init__(self, uri, user, password):\n",
    "        self._driver = GraphDatabase.driver(uri, auth=(user, password))\n",
    "\n",
    "    def close(self):\n",
    "        self._driver.close()\n",
    "\n",
    "    def exec(self, stmt):\n",
    "        with self._driver.session() as session:\n",
    "            result = session.write_transaction(self._exec, stmt)\n",
    "            return result.values\n",
    "\n",
    "    @staticmethod\n",
    "    def _exec(tx, stmt):\n",
    "        result = tx.run(stmt)\n",
    "        return result\n"
   ]
  },
  {
   "cell_type": "code",
   "execution_count": 3,
   "metadata": {},
   "outputs": [],
   "source": [
    "neo = NeoExec(uri=\"bolt://localhost:7687\", user=\"neo4j\", password=\"password\")"
   ]
  },
  {
   "cell_type": "code",
   "execution_count": 4,
   "metadata": {},
   "outputs": [],
   "source": [
    "def extract_quads():\n",
    "    has_more = True\n",
    "    pages = 10\n",
    "    skip = 0\n",
    "    limit = 10\n",
    "    while has_more & pages>0:\n",
    "        stmt: str = \"\"\"match (v1:vendors)-[r1:worked_with]-(v2:vendors)-[r2:worked_with]-(v3:vendors)-[r3:worked_with]-(v4:vendors)\n",
    "                where r1.claimnumber = r2.claimnumber = r3.claimnumber and id(v1) < id(v2) < id(v3) < id(v4)\n",
    "                return v1, v2, v3, v4, r1, r2, r3 skip {skip} limit {limit}\"\"\"\n",
    "        results = neo.exec(stmt)\n",
    "        pages -= 1\n",
    "        print(results)\n",
    "        if results==\"none\":\n",
    "            has_more = False\n",
    "        else:\n",
    "            skip += limit\n",
    "            limit += limit\n"
   ]
  },
  {
   "cell_type": "code",
   "execution_count": 5,
   "metadata": {},
   "outputs": [],
   "source": [
    "extract_quads()"
   ]
  },
  {
   "cell_type": "code",
   "execution_count": null,
   "metadata": {},
   "outputs": [],
   "source": []
  }
 ],
 "metadata": {
  "kernelspec": {
   "display_name": "Python 2",
   "language": "python",
   "name": "python2"
  },
  "language_info": {
   "codemirror_mode": {
    "name": "ipython",
    "version": 2
   },
   "file_extension": ".py",
   "mimetype": "text/x-python",
   "name": "python",
   "nbconvert_exporter": "python",
   "pygments_lexer": "ipython2",
   "version": "2.7.6"
  }
 },
 "nbformat": 4,
 "nbformat_minor": 0
}
